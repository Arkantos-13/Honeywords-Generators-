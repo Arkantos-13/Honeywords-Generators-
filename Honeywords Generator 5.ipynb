{
 "cells": [
  {
   "cell_type": "markdown",
   "metadata": {},
   "source": [
    "#### Here you can view the code with an explanations "
   ]
  },
  {
   "cell_type": "code",
   "execution_count": null,
   "metadata": {},
   "outputs": [],
   "source": [
    "### generator 5\n",
    "\n",
    "# First we must import the necessary modules for the generator\n",
    "\n",
    "# We use getpass in order to extract the password\n",
    "import getpass\n",
    "# We use random because we want random digits and punctuations\n",
    "import random \n",
    "import secrets\n",
    "# We import string because we will use string.digits and string.punctuation in our programimport string\n",
    "import string\n",
    "\n",
    "# We ask the user to type his password\n",
    "print('Please type your password :' , '\\n')\n",
    "# We use the getpass.getpass in order to extract and save the password of each user without displaying it below in our program \n",
    "password_user = getpass.getpass()\n",
    "# The total lowercase, uppercase, digits and punctuation we can use from the module string\n",
    "letters = (string.ascii_letters + string.digits + string.punctuation)\n",
    "# we chose cryptographical 80 random 'letters'\n",
    "words = [secrets.choice(letters) for i in range(80)]\n",
    "# We enclose our password between the 50 'words'\n",
    "words[random.randint(0, len(words))] = password_user\n",
    "# We inform the user that his honeypot is ready \n",
    "print('Your honeypot is ready:' , '\\n')\n",
    "# We print the final honeywords\n",
    "print(''.join(words))"
   ]
  },
  {
   "cell_type": "markdown",
   "metadata": {},
   "source": [
    "#### Here you can view the raw code "
   ]
  },
  {
   "cell_type": "code",
   "execution_count": null,
   "metadata": {},
   "outputs": [],
   "source": [
    "#generator 5\n",
    "\n",
    "import getpass\n",
    "import random \n",
    "import secrets\n",
    "import string\n",
    "\n",
    "print('Please type your password :' , '\\n')\n",
    "password_user = getpass.getpass()\n",
    "\n",
    "letters = (string.ascii_letters + string.digits + string.punctuation)\n",
    "words = [secrets.choice(letters) for i in range(80)]\n",
    "words[random.randint(0, len(words))] = password_user\n",
    "\n",
    "print('Your honeypot is ready:' , '\\n')\n",
    "print(''.join(words))"
   ]
  },
  {
   "cell_type": "markdown",
   "metadata": {},
   "source": [
    "#### Here I have added the ability for each user to choose the numbers of honeywords "
   ]
  },
  {
   "cell_type": "code",
   "execution_count": null,
   "metadata": {},
   "outputs": [],
   "source": [
    "#### generator 5\n",
    "\n",
    "import getpass\n",
    "import random \n",
    "import secrets\n",
    "import string\n",
    "\n",
    "print('Please type your password :' , '\\n')\n",
    "password_user = getpass.getpass()\n",
    "print('How many honeywords would you like to get?','\\n')\n",
    "k = int(getpass.getpass())\n",
    "\n",
    "letters = (string.ascii_letters + string.digits + string.punctuation)\n",
    "\n",
    "print('Your honeywords are ready:' , '\\n')\n",
    "for _ in range(k):\n",
    "    for _ in password_user:\n",
    "        words=[]\n",
    "        words = [secrets.choice(letters) for i in range(80)]\n",
    "        words[random.randint(0, 60)] = password_user\n",
    "    print(''.join(words))"
   ]
  }
 ],
 "metadata": {
  "kernelspec": {
   "display_name": "Python 3",
   "language": "python",
   "name": "python3"
  },
  "language_info": {
   "codemirror_mode": {
    "name": "ipython",
    "version": 3
   },
   "file_extension": ".py",
   "mimetype": "text/x-python",
   "name": "python",
   "nbconvert_exporter": "python",
   "pygments_lexer": "ipython3",
   "version": "3.7.6"
  }
 },
 "nbformat": 4,
 "nbformat_minor": 4
}
