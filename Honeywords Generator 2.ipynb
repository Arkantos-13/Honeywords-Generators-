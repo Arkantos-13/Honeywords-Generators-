{
 "cells": [
  {
   "cell_type": "code",
   "execution_count": null,
   "metadata": {},
   "outputs": [],
   "source": [
    "#generator 2 \n",
    "\n",
    "import getpass\n",
    "import random \n",
    "import string\n",
    "\n",
    "print('Please type your password:','\\n')\n",
    "word = getpass.getpass()\n",
    "words = [word]\n",
    "for i in range(9):\n",
    "    new_word = ''\n",
    "    for c in word:\n",
    "        if c in string.digits:\n",
    "            new_c = string.digits[random.randrange(len(string.digits))]\n",
    "        elif c in string.punctuation:\n",
    "            new_c = string.punctuation[random.randrange(len(string.punctuation))]\n",
    "        else:\n",
    "            new_c = c  \n",
    "        new_word += new_c\n",
    "    words.append(new_word)\n",
    "    \n",
    "random.shuffle(words)\n",
    "for word in words:\n",
    "    print(word)"
   ]
  }
 ],
 "metadata": {
  "kernelspec": {
   "display_name": "Python 3",
   "language": "python",
   "name": "python3"
  },
  "language_info": {
   "codemirror_mode": {
    "name": "ipython",
    "version": 3
   },
   "file_extension": ".py",
   "mimetype": "text/x-python",
   "name": "python",
   "nbconvert_exporter": "python",
   "pygments_lexer": "ipython3",
   "version": "3.7.6"
  }
 },
 "nbformat": 4,
 "nbformat_minor": 4
}
