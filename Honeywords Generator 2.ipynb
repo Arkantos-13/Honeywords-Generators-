{
 "cells": [
  {
   "cell_type": "markdown",
   "metadata": {},
   "source": [
    "#### Here you can view the code with an explanations "
   ]
  },
  {
   "cell_type": "code",
   "execution_count": null,
   "metadata": {},
   "outputs": [],
   "source": [
    "#generator 2 \n",
    "\n",
    "# First we must import the necessary modules for the generator\n",
    "\n",
    "# We use getpass in order to extract the password\n",
    "import getpass\n",
    "# We use random because we want random digits and punctuations\n",
    "import random \n",
    "# We import string because we will use string.digits and string.punctuation in our programimport string\n",
    "import string \n",
    "\n",
    "# We ask the user to type his password\n",
    "print('Please type your password:','\\n')\n",
    "# We use the getpass.getpass in order to extract and save the password of each user without displaying it below in our program \n",
    "password_user = getpass.getpass()\n",
    "# We create a list and as input we have the password_user\n",
    "words = [password_user]\n",
    "# We just want to produce only 9 honeywords. If you want more you just have to change the number below \n",
    "for i in range(9):\n",
    "    new_word = ''\n",
    "    # We check each letter in order to verify if it is a letter, a number, or a punctuation  \n",
    "    for c in password_user:\n",
    "        # We check and change each digit with a new random digit   \n",
    "        if c in string.digits:\n",
    "            new_c = string.digits[random.randrange(len(string.digits))]\n",
    "        # We check and change each punctuation with a new random punctuation   \n",
    "        elif c in string.punctuation:\n",
    "            new_c = string.punctuation[random.randrange(len(string.punctuation))]\n",
    "        # If we find a letter in our password we don't change it at all  \n",
    "        else:\n",
    "            new_c = c  \n",
    "        new_word += new_c\n",
    "    # We connect our nine honeywords with the original password\n",
    "    words.append(new_word)\n",
    "# We shuffle our ten words in order to destroy a possible pattern in our honeypot     \n",
    "random.shuffle(words)\n",
    "# We just print our honeywords\n",
    "for word in words:\n",
    "    print(word)"
   ]
  },
  {
   "cell_type": "markdown",
   "metadata": {},
   "source": [
    "#### Here you can view the raw code "
   ]
  },
  {
   "cell_type": "code",
   "execution_count": null,
   "metadata": {},
   "outputs": [],
   "source": [
    "#generator 2 \n",
    "\n",
    "import getpass\n",
    "import random \n",
    "import string\n",
    "\n",
    "print('Please type your password:','\\n')\n",
    "password_user = getpass.getpass()\n",
    "words = [password_user]\n",
    "for i in range(9):\n",
    "    new_word = ''\n",
    "    for c in password_user:\n",
    "        if c in string.digits:\n",
    "            new_c = string.digits[random.randrange(len(string.digits))]\n",
    "        elif c in string.punctuation:\n",
    "            new_c = string.punctuation[random.randrange(len(string.punctuation))]\n",
    "        else:\n",
    "            new_c = c  \n",
    "        new_word += new_c\n",
    "    words.append(new_word)\n",
    "    \n",
    "random.shuffle(words)\n",
    "for word in words:\n",
    "    print(word)"
   ]
  }
 ],
 "metadata": {
  "kernelspec": {
   "display_name": "Python 3",
   "language": "python",
   "name": "python3"
  },
  "language_info": {
   "codemirror_mode": {
    "name": "ipython",
    "version": 3
   },
   "file_extension": ".py",
   "mimetype": "text/x-python",
   "name": "python",
   "nbconvert_exporter": "python",
   "pygments_lexer": "ipython3",
   "version": "3.7.6"
  }
 },
 "nbformat": 4,
 "nbformat_minor": 4
}
