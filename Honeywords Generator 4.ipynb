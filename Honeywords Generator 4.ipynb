{
 "cells": [
  {
   "cell_type": "markdown",
   "metadata": {},
   "source": [
    "#### Here you can view the code with an explanations "
   ]
  },
  {
   "cell_type": "code",
   "execution_count": null,
   "metadata": {},
   "outputs": [],
   "source": [
    "#generator 4 \n",
    "\n",
    "# First we must import the necessary modules for the generator\n",
    "\n",
    "# We use getpass in order to extract the password\n",
    "import getpass\n",
    "# We use random because we want random digits and punctuations\n",
    "import random\n",
    "# We import string because we will use string.digits and string.punctuation in our programimport string\n",
    "import string\n",
    "# We import randrange because we need a random integer number every time we execute our code, which will be the number of noises between the letters \n",
    "from random import randrange\n",
    "\n",
    "# We ask the user to type his password\n",
    "print('Please type your password :' , '\\n')\n",
    "# We use the getpass.getpass in order to extract and save the password of each user without displaying it below in our program \n",
    "password_user = getpass.getpass() \n",
    "\n",
    "def generator_4 (password_user):\n",
    "    new_word = \"\"\n",
    "    # k is an integer number between (3,6). This can be changed if we want\n",
    "    j = randrange(3,6) \n",
    "    for i in password_user:\n",
    "        # The total uppercase and lowercase of the English alphabet in k length \n",
    "        letters = ''.join(random.sample(string.ascii_letters,j))\n",
    "        # We insert the noises between the original letters of the password\n",
    "        new_word += \"{}{}\".format(i,letters)\n",
    "        # We return the final word after we insert the noises \n",
    "    return new_word\n",
    "\n",
    "# We just call our function \n",
    "generator_4(password_user)"
   ]
  },
  {
   "cell_type": "markdown",
   "metadata": {},
   "source": [
    "#### Here you can view the raw code "
   ]
  },
  {
   "cell_type": "code",
   "execution_count": null,
   "metadata": {},
   "outputs": [],
   "source": [
    "#generator 4 \n",
    "\n",
    "import getpass\n",
    "import random\n",
    "import string\n",
    "from random import randrange\n",
    "\n",
    "print('Please type your password :' , '\\n')\n",
    "password_user = getpass.getpass() \n",
    "\n",
    "def generator_4 (password_user):\n",
    "    new_word = \"\"\n",
    "    j = randrange(3,6) \n",
    "    for i in password_user:\n",
    "        letters = ''.join(random.sample(string.ascii_letters,j))\n",
    "        new_word += \"{}{}\".format(i,letters)\n",
    "    return new_word\n",
    "\n",
    "generator_4(password_user)"
   ]
  },
  {
   "cell_type": "markdown",
   "metadata": {},
   "source": [
    "#### Here I have added the ability for each user to choose the numbers of honeywords "
a
   ]
  },
  {
   "cell_type": "code",
   "execution_count": null,
   "metadata": {},
   "outputs": [],
   "source": [
    "#generator 4 \n",
    "\n",
    "import getpass\n",
    "import random\n",
    "import string\n",
    "from random import randrange\n",
    "\n",
    "print('Please type your password :' , '\\n')\n",
    "password_user = getpass.getpass() \n",
    "print('How many honeywords would you like to get?','\\n')\n",
    "k = int(getpass.getpass())\n",
    "\n",
    "def generator_4 (password_user):\n",
    "    for _ in range(k):\n",
    "        new_word = ''\n",
    "        #j = randrange(2,6) \n",
    "        for i in password_user:\n",
    "            j = randrange(2,6) \n",
    "            letters = ''.join(random.sample(string.ascii_letters,j))\n",
    "            new_word += \"{}{}\".format(i,letters)\n",
    "        print(new_word)\n",
    "\n",
    "generator_4(password_user)"
   ]
  }
 ],
 "metadata": {
  "kernelspec": {
   "display_name": "Python 3",
   "language": "python",
   "name": "python3"
  },
  "language_info": {
   "codemirror_mode": {
    "name": "ipython",
    "version": 3
   },
   "file_extension": ".py",
   "mimetype": "text/x-python",
   "name": "python",
   "nbconvert_exporter": "python",
   "pygments_lexer": "ipython3",
   "version": "3.7.6"
  }
 },
 "nbformat": 4,
 "nbformat_minor": 4
}
