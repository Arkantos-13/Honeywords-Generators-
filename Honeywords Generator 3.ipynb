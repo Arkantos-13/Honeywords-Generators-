{
 "cells": [
  {
   "cell_type": "markdown",
   "metadata": {},
   "source": [
    "#### Here you can view the code with an explanations "
   ]
  },
  {
   "cell_type": "code",
   "execution_count": null,
   "metadata": {},
   "outputs": [],
   "source": [
    "#generator 3\n",
    "\n",
    "# First we must import the necessary modules for the generator\n",
    "\n",
    "# We use getpass in order to extract the password\n",
    "import getpass\n",
    "# We use random because we want random digits and punctuations\n",
    "import random\n",
    "# we use regex to check if each password our user types, satisfies our conditions  \n",
    "import re \n",
    "# We use choice to choose a cryptographic and secret letter each time \n",
    "from secrets import choice \n",
    "\n",
    "# We ask the user to type his password and we explain the password's requirements\n",
    "print('Your password must contain at least one lowercase letter'\n",
    "      'one capital letter, one number and a symbol and the lenght must be between 8 and 20 \\n')\n",
    "\n",
    "# This is the regex that checks the passwords. \n",
    "# {8,20} is the length of the password\n",
    "# Next, it checks if that password has lowercase and an uppercase\n",
    "# At the end of the regex we add the punctuation the password is allowed to contain \n",
    "pattern = \"^.*(?=.{8,20})(?=.*[a-zA-Z])(?=.*?[A-Z])(?=.*\\d)[a-zA-Z0-9!@£$%^&*()_+={}?:~\\[\\]]+$\"\n",
    "\n",
    "# We ask the user to type his password\n",
    "print('Please type your password:','\\n')\n",
    "\n",
    "# We use the getpass.getpass in order to extract and save the password of each user without displaying it below in our program \n",
    "password = getpass.getpass()\n",
    "\n",
    "# We check if the password the user inserted satisfies our conditions\n",
    "password_user = re.findall(pattern , password)\n",
    "\n",
    "# If true, we inform the user that the password is ok and then we create the honeypot, which is a new one every time\n",
    "if (password_user):\n",
    "    print('Your password is valid: \\n')\n",
    "    letters = (str.upper,str.lower)\n",
    "    ''.join(choice(letters)(c) for c in password_user)\n",
    "    \n",
    "    # We connect our honeywords with the original password\n",
    "    lst = [''.join(choice(letters)(c) for c in password) for i in range(9)] + password_user\n",
    "    \n",
    "    # We shuffle our honeywords and the password in order to destroy any possible patterns in our honeypot \n",
    "    random.shuffle(lst)\n",
    "    print('Your honeypot is ready: \\n')\n",
    "    \n",
    "    # We present the final result \n",
    "    for i in range(len(lst)):\n",
    "        print(i+1, lst[i], end ='\\n') \n",
    "else:\n",
    "    # If false we inform the user to type his password in the right way this time\n",
    "    print('Your password is invalid, please try again. Your password must contain at least one lowercase letter, one capital letter, one number and a symbol. The length of the password must be between 8 and 20 digits. \\n')"
   ]
  },
  {
   "cell_type": "markdown",
   "metadata": {},
   "source": [
    "#### Here you can view the raw code "
   ]
  },
  {
   "cell_type": "code",
   "execution_count": null,
   "metadata": {},
   "outputs": [],
   "source": [
    "#generator 3\n",
    "\n",
    "import getpass\n",
    "import random\n",
    "import re \n",
    "from secrets import choice \n",
    "\n",
    "print('Your password must contain at least one lowercase letter'\n",
    "      'one capital letter, one number and a symbol and the lenght must be between 8 and 20','\\n')\n",
    "\n",
    "pattern = \"^.*(?=.{8,20})(?=.*[a-zA-Z])(?=.*?[A-Z])(?=.*\\d)[a-zA-Z0-9!@£$%^&*()_+={}?:~\\[\\]]+$\"\n",
    "\n",
    "print('Please type your password:','\\n')\n",
    "password = getpass.getpass()\n",
    "password_user = re.findall(pattern , password)\n",
    "\n",
    "if (password_user):\n",
    "    print('Your password is valid: \\n')\n",
    "    letters = (str.upper,str.lower)\n",
    "    ''.join(choice(letters)(c) for c in password_user)\n",
    "    lst = [''.join(choice(letters)(c) for c in password) for i in range(9)] + password_user\n",
    "    random.shuffle(lst)\n",
    "    print('Your honeypot is ready: \\n')\n",
    "    for i in range(len(lst)):\n",
    "        print(i+1, lst[i], end ='\\n') \n",
    "else:\n",
    "    print('Your password is invalid, please try again','\\n')"
   ]
  },
  {
   "cell_type": "markdown",
   "metadata": {},
   "source": [
    "#### Here I have added the ability for each user to choose the numbers of honeywords "
   ]
  },
  {
   "cell_type": "code",
   "execution_count": null,
   "metadata": {},
   "outputs": [],
   "source": [
    "#generator 3\n",
    "\n",
    "import getpass\n",
    "import random\n",
    "import re \n",
    "from secrets import choice \n",
    "\n",
    "print('Your password must contain at least one lowercase letter'\n",
    "      'one capital letter, one number and a symbol and the lenght must be between 8 and 20','\\n')\n",
    "\n",
    "pattern = \"^.*(?=.{8,20})(?=.*[a-zA-Z])(?=.*?[A-Z])(?=.*\\d)[a-zA-Z0-9!@£$%^&*()_+={}?:~\\[\\]]+$\"\n",
    "\n",
    "print('Please type your password:','\\n')\n",
    "password = getpass.getpass()\n",
    "password_user = re.findall(pattern , password)\n",
    "\n",
    "print('How many honeywords would you like to get?','\\n')\n",
    "k = int(getpass.getpass())\n",
    "\n",
    "if (password_user):\n",
    "    print('Your password is valid: \\n')\n",
    "    letters = (str.upper,str.lower)\n",
    "    ''.join(choice(letters)(c) for c in password_user)\n",
    "    lst = [''.join(choice(letters)(c) for c in password) for i in range(k)] + password_user\n",
    "    random.shuffle(lst)\n",
    "    print('Your honeypot is ready: \\n')\n",
    "    for i in range(len(lst)):\n",
    "        print(lst[i], end ='\\n') \n",
    "else:\n",
    "    print('Your password is invalid, please try again','\\n')"
   ]
  }
 ],
 "metadata": {
  "kernelspec": {
   "display_name": "Python 3",
   "language": "python",
   "name": "python3"
  },
  "language_info": {
   "codemirror_mode": {
    "name": "ipython",
    "version": 3
   },
   "file_extension": ".py",
   "mimetype": "text/x-python",
   "name": "python",
   "nbconvert_exporter": "python",
   "pygments_lexer": "ipython3",
   "version": "3.7.6"
  }
 },
 "nbformat": 4,
 "nbformat_minor": 4
}
