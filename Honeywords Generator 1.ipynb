{
 "cells": [
  {
   "cell_type": "code",
   "execution_count": null,
   "metadata": {},
   "outputs": [],
   "source": [
    "# generator 1\n",
    "\n",
    "# First we must import the necessary modules for the generator\n",
    "\n",
    "# We use shuffle in order to mix our passwords in random order each time, so we make it impossible to the attackers to make a pattern\n",
    "from random import shuffle \n",
    "# We use getpass in order to get, store, and mainly don't show to anyone the real password of the user\n",
    "import getpass\n",
    "\n",
    "def generator_1():\n",
    "    # We ask the user to type his password\n",
    "    print('Please type your password :','\\n')\n",
    "    # We get and store it \n",
    "    password_user = getpass.getpass()\n",
    "    # We open and read our file with the random passwords which we will use as honeywords\n",
    "    with open('honeywords.txt', 'r') as g:\n",
    "        passwords = g.read().split('\\n')\n",
    "    # We shuffle them  \n",
    "    shuffle(passwords)\n",
    "    # We choose only 19 random passwords from our file\n",
    "    passwords = passwords[:19]\n",
    "    # We append the real password of the user and the 19 random passwords\n",
    "    passwords.append(password_user)\n",
    "    # And then we shuffle them for the second and last time\n",
    "    shuffle(passwords)\n",
    "    # We print a message that our honeypot is ready and finally we present the 20 passwords\n",
    "    print ('Your honeypot is ready: ' , '\\n')\n",
    "    for i in passwords:\n",
    "        print(i)\n",
    "        \n",
    "# We just call our function, so as to execute      \n",
    "generator_1()   "
   ]
  }
 ],
 "metadata": {
  "kernelspec": {
   "display_name": "Python 3",
   "language": "python",
   "name": "python3"
  },
  "language_info": {
   "codemirror_mode": {
    "name": "ipython",
    "version": 3
   },
   "file_extension": ".py",
   "mimetype": "text/x-python",
   "name": "python",
   "nbconvert_exporter": "python",
   "pygments_lexer": "ipython3",
   "version": "3.7.6"
  }
 },
 "nbformat": 4,
 "nbformat_minor": 4
}
