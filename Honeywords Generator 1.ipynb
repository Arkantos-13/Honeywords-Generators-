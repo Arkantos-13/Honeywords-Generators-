{
 "cells": [
  {
   "cell_type": "markdown",
   "metadata": {},
   "source": [
    "#### Here you can view the code with an explanations "
   ]
  },
  {
   "cell_type": "code",
   "execution_count": null,
   "metadata": {},
   "outputs": [],
   "source": [
    "# generator 1\n",
    "\n",
    "# First we must import the necessary modules for the generator\n",
    "\n",
    "# We use shuffle in order to shuffle our passwords in random order each time. that way we make it impossible for the attackers to create a pattern\n",
    "from random import shuffle \n",
    "# We use getpass in order to get, store, and mainly don't show to anyone the real password of the user\n",
    "import getpass\n",
    "\n",
    "# We ask the user to type his password for the first time\n",
    "print('Please type your password :','\\n')\n",
    "# We get and store it \n",
    "password_user1 = getpass.getpass()\n",
    "\n",
    "def generator_1():\n",
    "    # We ask the user to type his password one more time \n",
    "    print('Please type your password :','\\n')\n",
    "    # We get and store it \n",
    "    password_user2 = getpass.getpass()\n",
    "    # We make sure that the passwords both times are the some and only then we keep going\n",
    "    if (password_user1 == password_user2):\n",
    "    # We open and read our file with the random passwords\n",
    "        with open('honeywords.txt', 'r') as g:\n",
    "            passwords = g.read().split('\\n')\n",
    "    # We shuffle them  \n",
    "            shuffle(passwords)\n",
    "    # We choose only 19 random passwords from our file\n",
    "        passwords = passwords[:19]\n",
    "    # We append the real password of the user and the 19 random passwords\n",
    "        passwords.append(password_user2)\n",
    "    # And then we shuffle them for the second and last time\n",
    "        shuffle(passwords)\n",
    "    # We print a message that our honeywords is ready and finally we present the 20 passwords\n",
    "        print ('Your honeywords are ready: ' , '\\n')\n",
    "        for i in passwords:\n",
    "            print(i)\n",
    "    # Otherwise we inform the user that the password is invalid\n",
    "    else:\n",
    "        print('Your password is invalid. Please try again')\n",
    "# We just call our function, so as to execute      \n",
    "generator_1()  "
   ]
  },
  {
   "cell_type": "markdown",
   "metadata": {},
   "source": [
    "#### Here you can view the raw code "
   ]
  },
  {
   "cell_type": "code",
   "execution_count": null,
   "metadata": {},
   "outputs": [],
   "source": [
    "#generator 1\n",
    "\n",
    "import getpass\n",
    "from random import shuffle\n",
    "\n",
    "print('Please type your password :','\\n')\n",
    "password_user1 = getpass.getpass()\n",
    "\n",
    "def generator_1():\n",
    "    \n",
    "    print('Please type your password :','\\n')\n",
    "    password_user2 = getpass.getpass()\n",
    "    \n",
    "    if (password_user1 == password_user2):\n",
    "        with open('honeywords.txt', 'r') as g:\n",
    "            passwords = g.read().split('\\n')\n",
    "            shuffle(passwords)\n",
    "            passwords = passwords[:19]\n",
    "        passwords.append(password_user2)\n",
    "        shuffle(passwords)\n",
    
    "        print ('Your honeywords are ready: \\n')\n",
    "        for i in passwords:  \n",
    "            print(i)\n",
    "    else:\n",
    "        print('Your password is invalid. Please try again')\n",
    "\n",
    "generator_1()  "
   ]
  },
  {
   "cell_type": "markdown",
   "metadata": {},
   "source": [
    "#### Here I have added the ability for each user to choose the numbers of honeywords "
   ]
  },
  {
   "cell_type": "code",
   "execution_count": null,
   "metadata": {},
   "outputs": [],
   "source": [
    "#generator 1\n",
    "\n",
    "import getpass\n",
    "from random import shuffle\n",
    "\n",
    "print('Please type your password :','\\n')\n",
    "password_user1 = getpass.getpass()\n",
    
    "print('How many honeywords would you like to get?','\\n')\n",
    "k = int(getpass.getpass())\n",
    "\n",
    
    "def generator_1():\n",
    "    print('Please type your password :','\\n')\n",
    "    password_user2 = getpass.getpass()\n",
    
    "    if (password_user1 == password_user2):\n",
    "        with open('honeywords.txt', 'r') as g:\n",
    "            passwords = g.read().split('\\n')\n",
    "            shuffle(passwords)\n",
    "            passwords = passwords[:k]\n",
    "        passwords.append(password_user2)\n",
    "        shuffle(passwords)\n",
    
    "        print ('Your honeywords are ready: \\n')\n",
    "        for i in passwords:  \n",
    "            print(i)\n",
    
    "    else:\n",
    "        print('Your password is invalid. Please try again')\n",
    "\n",
    "generator_1()  "
   ]
  }
 ],
 "metadata": {
  "kernelspec": {
   "display_name": "Python 3",
   "language": "python",
   "name": "python3"
  },
  "language_info": {
   "codemirror_mode": {
    "name": "ipython",
    "version": 3
   },
   "file_extension": ".py",
   "mimetype": "text/x-python",
   "name": "python",
   "nbconvert_exporter": "python",
   "pygments_lexer": "ipython3",
   "version": "3.7.6"
  }
 },
 "nbformat": 4,
 "nbformat_minor": 4
}
